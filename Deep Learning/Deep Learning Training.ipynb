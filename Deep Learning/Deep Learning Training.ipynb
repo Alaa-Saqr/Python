{
 "cells": [
  {
   "cell_type": "code",
   "execution_count": 2,
   "id": "50d109ff-3ed6-49bc-8b21-c95787d8c25a",
   "metadata": {},
   "outputs": [],
   "source": [
    "%run \"C:/s/s.py\""
   ]
  },
  {
   "cell_type": "code",
   "execution_count": null,
   "id": "ea984fab-91e3-4452-bd1a-e1b175ffb898",
   "metadata": {},
   "outputs": [],
   "source": [
    "df = pd_read(')"
   ]
  }
 ],
 "metadata": {
  "kernelspec": {
   "display_name": "Python [conda env:base] *",
   "language": "python",
   "name": "conda-base-py"
  },
  "language_info": {
   "codemirror_mode": {
    "name": "ipython",
    "version": 3
   },
   "file_extension": ".py",
   "mimetype": "text/x-python",
   "name": "python",
   "nbconvert_exporter": "python",
   "pygments_lexer": "ipython3",
   "version": "3.11.7"
  }
 },
 "nbformat": 4,
 "nbformat_minor": 5
}
